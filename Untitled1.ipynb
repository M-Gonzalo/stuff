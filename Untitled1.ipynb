{
  "nbformat": 4,
  "nbformat_minor": 0,
  "metadata": {
    "colab": {
      "name": "Untitled1.ipynb",
      "provenance": [],
      "collapsed_sections": [],
      "include_colab_link": true
    },
    "kernelspec": {
      "name": "python3",
      "display_name": "Python 3"
    }
  },
  "cells": [
    {
      "cell_type": "markdown",
      "metadata": {
        "id": "view-in-github",
        "colab_type": "text"
      },
      "source": [
        "<a href=\"https://colab.research.google.com/github/M-Gonzalo/stuff/blob/master/Untitled1.ipynb\" target=\"_parent\"><img src=\"https://colab.research.google.com/assets/colab-badge.svg\" alt=\"Open In Colab\"/></a>"
      ]
    },
    {
      "cell_type": "code",
      "metadata": {
        "id": "CJRLL_92X3-n",
        "colab_type": "code",
        "colab": {}
      },
      "source": [
        "!apt install wine-development --install-recommends -y 1>>apt_log 2>>apt_log\n",
        "!dpkg --add-architecture i386 1>>apt_log 2>>apt_log\n",
        "!apt-get update 1>>apt_log 2>>apt_log\n",
        "!apt-get install wine32-development --install-recommends -y 1>>apt_log 2>>apt_log\n",
        "!apt install axel --install-recommends --install-suggests -y 1>>apt_log 2>>apt_log\n",
        "#!cat apt_log"
      ],
      "execution_count": 0,
      "outputs": []
    },
    {
      "cell_type": "code",
      "metadata": {
        "id": "XnlJlcknAJM0",
        "colab_type": "code",
        "colab": {}
      },
      "source": [
        "#Compile precomp_mt\n",
        "!wget -O - https://raw.githubusercontent.com/M-Gonzalo/stuff/master/compile_precomp_mt_for_the_cloud 2>/dev/null | bash 1>>mtprecomp.log 2>>mtprecomp.log\n",
        "!rm -rf /content/precomp-cpp-multithreaded_reconstruction /content/multithreaded_reconstruction.zip"
      ],
      "execution_count": 0,
      "outputs": []
    },
    {
      "cell_type": "code",
      "metadata": {
        "id": "eKylt5_pFTHH",
        "colab_type": "code",
        "colab": {}
      },
      "source": [
        "#Download and install test suite\n",
        "!wget -O TEST.7z https://github.com/M-Gonzalo/stuff/raw/master/TEST.7z 2>/dev/null\n",
        "!7z x -aoa TEST.7z && rm TEST.7z\n",
        "!chmod +x /content/bin/*"
      ],
      "execution_count": 0,
      "outputs": []
    },
    {
      "cell_type": "code",
      "metadata": {
        "id": "N5Qto5LKMJfi",
        "colab_type": "code",
        "colab": {
          "base_uri": "https://localhost:8080/",
          "height": 35
        },
        "outputId": "894ef7ac-326c-4fc1-e004-1f041dbee76b"
      },
      "source": [
        "#!wget http://mattmahoney.net/dc/enwik8.zip 2>/dev/null\n",
        "#!7z x enwik8.zip && rm enwik8.zip\n",
        "\n",
        "#!wget http://mattmahoney.net/dc/enwik9.zip 2>/dev/null\n",
        "#!7z x enwik9.zip && rm enwik9.zip\n",
        "\n",
        "#!wget https://github.com/torvalds/linux/archive/v5.4.zip 2>/dev/null\n",
        "#!mtprecomp -e -cn v5.4.zip && rm v5.4.zip\n",
        "#!strings v5.4.zip.pcf >linux && rm v5.4.zip.pcf\n",
        "!wine razor -d 512m a linux.rz linux\n",
        "#!time bash ./main_test.sh linux 1\n",
        "\n",
        "#!wget https://download-a.akamaihd.net/files/media_publication/57/nwt_E.rtf.zip 2>/dev/null\n",
        "#!mtprecomp -e -cn -intense -brute nwt_E.rtf.zip && rm nwt_E.rtf.zip\n",
        "\n",
        "#!wget https://github.com/M-Gonzalo/stuff/raw/master/7z 2>/dev/null\n",
        "#!wget https://github.com/M-Gonzalo/stuff/raw/master/book1 2>/dev/null\n",
        "#!wget https://github.com/M-Gonzalo/stuff/raw/master/dickens 2>/dev/null\n",
        "\n",
        "#!chmod +x /content/bin/*\n",
        "#!time for f in 7z apt_log book1 dickens enwik8; do bash ./main_test.sh $f 1; done\n"
      ],
      "execution_count": 0,
      "outputs": [
        {
          "output_type": "stream",
          "text": [
            " total 59.0% - ratio 8.7% - speed 345K/s - file 59.0%"
          ],
          "name": "stdout"
        }
      ]
    },
    {
      "cell_type": "code",
      "metadata": {
        "id": "YlnEpfwiRKk_",
        "colab_type": "code",
        "colab": {}
      },
      "source": [
        "!rm test*\n",
        "#!wget https://github.com/thometal/zpaqgui/releases/download/0.0.2/zpaqgui-linux.gtk.x86.zip\n",
        "!bash difftest.sh zpaqgui-linux.gtk.x86.zip"
      ],
      "execution_count": 0,
      "outputs": []
    },
    {
      "cell_type": "code",
      "metadata": {
        "id": "YUqwLbXrs5wK",
        "colab_type": "code",
        "colab": {}
      },
      "source": [
        "!xdelta --help"
      ],
      "execution_count": 0,
      "outputs": []
    },
    {
      "cell_type": "code",
      "metadata": {
        "id": "HdMkOg98vtWn",
        "colab_type": "code",
        "colab": {}
      },
      "source": [
        "from google.colab import drive\n",
        "drive.mount('/content/drive')"
      ],
      "execution_count": 0,
      "outputs": []
    }
  ]
}